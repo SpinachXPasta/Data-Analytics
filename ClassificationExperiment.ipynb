{
 "cells": [
  {
   "cell_type": "code",
   "execution_count": 375,
   "metadata": {},
   "outputs": [],
   "source": [
    "import pandas as pd #Pandas is a data analysis tool in python that allows you to read files into a table."
   ]
  },
  {
   "cell_type": "code",
   "execution_count": 376,
   "metadata": {},
   "outputs": [],
   "source": [
    "%matplotlib inline\n",
    "\n",
    "import matplotlib\n",
    "import numpy as np\n",
    "import matplotlib.pyplot as plt\n",
    "import seaborn as sns"
   ]
  },
  {
   "cell_type": "code",
   "execution_count": 377,
   "metadata": {},
   "outputs": [],
   "source": [
    "White_wine = pd.read_csv(\"wineQualityWhites.csv\")\n",
    "Red_wine = pd.read_csv(\"wineQualityReds.csv\")"
   ]
  },
  {
   "cell_type": "markdown",
   "metadata": {},
   "source": [
    "### Introduction\n",
    "\n",
    "<span style=\"font-family:Times; font-size:1em;\">The concept to be learned here is the prediction of the type of Wine Based on the attributes that we have for two types of wines. The data is from Udacity, but can also be traced back to UCI machine learning repository. We are combining two data sets one which has white wines and the other which has red wines</span>"
   ]
  },
  {
   "cell_type": "code",
   "execution_count": 378,
   "metadata": {},
   "outputs": [
    {
     "data": {
      "text/plain": [
       "True"
      ]
     },
     "execution_count": 378,
     "metadata": {},
     "output_type": "execute_result"
    }
   ],
   "source": [
    "#Check if the columns match in both the tables.\n",
    "list(White_wine.columns) == list(Red_wine.columns)"
   ]
  },
  {
   "cell_type": "code",
   "execution_count": 379,
   "metadata": {},
   "outputs": [],
   "source": [
    "White_wine['Class'] = 0#For White'\n",
    "Red_wine['Class'] = 1# For Red'\n",
    "Master = pd.concat([White_wine,Red_wine])"
   ]
  },
  {
   "cell_type": "code",
   "execution_count": 380,
   "metadata": {},
   "outputs": [
    {
     "data": {
      "text/html": [
       "<div>\n",
       "<style scoped>\n",
       "    .dataframe tbody tr th:only-of-type {\n",
       "        vertical-align: middle;\n",
       "    }\n",
       "\n",
       "    .dataframe tbody tr th {\n",
       "        vertical-align: top;\n",
       "    }\n",
       "\n",
       "    .dataframe thead th {\n",
       "        text-align: right;\n",
       "    }\n",
       "</style>\n",
       "<table border=\"1\" class=\"dataframe\">\n",
       "  <thead>\n",
       "    <tr style=\"text-align: right;\">\n",
       "      <th></th>\n",
       "      <th>Unnamed: 0</th>\n",
       "      <th>fixed.acidity</th>\n",
       "      <th>volatile.acidity</th>\n",
       "      <th>citric.acid</th>\n",
       "      <th>residual.sugar</th>\n",
       "      <th>chlorides</th>\n",
       "      <th>free.sulfur.dioxide</th>\n",
       "      <th>total.sulfur.dioxide</th>\n",
       "      <th>density</th>\n",
       "      <th>pH</th>\n",
       "      <th>sulphates</th>\n",
       "      <th>alcohol</th>\n",
       "      <th>quality</th>\n",
       "      <th>Class</th>\n",
       "    </tr>\n",
       "  </thead>\n",
       "  <tbody>\n",
       "    <tr>\n",
       "      <th>0</th>\n",
       "      <td>1</td>\n",
       "      <td>7.0</td>\n",
       "      <td>0.27</td>\n",
       "      <td>0.36</td>\n",
       "      <td>20.7</td>\n",
       "      <td>0.045</td>\n",
       "      <td>45.0</td>\n",
       "      <td>170.0</td>\n",
       "      <td>1.0010</td>\n",
       "      <td>3.00</td>\n",
       "      <td>0.45</td>\n",
       "      <td>8.8</td>\n",
       "      <td>6</td>\n",
       "      <td>0</td>\n",
       "    </tr>\n",
       "    <tr>\n",
       "      <th>1</th>\n",
       "      <td>2</td>\n",
       "      <td>6.3</td>\n",
       "      <td>0.30</td>\n",
       "      <td>0.34</td>\n",
       "      <td>1.6</td>\n",
       "      <td>0.049</td>\n",
       "      <td>14.0</td>\n",
       "      <td>132.0</td>\n",
       "      <td>0.9940</td>\n",
       "      <td>3.30</td>\n",
       "      <td>0.49</td>\n",
       "      <td>9.5</td>\n",
       "      <td>6</td>\n",
       "      <td>0</td>\n",
       "    </tr>\n",
       "    <tr>\n",
       "      <th>2</th>\n",
       "      <td>3</td>\n",
       "      <td>8.1</td>\n",
       "      <td>0.28</td>\n",
       "      <td>0.40</td>\n",
       "      <td>6.9</td>\n",
       "      <td>0.050</td>\n",
       "      <td>30.0</td>\n",
       "      <td>97.0</td>\n",
       "      <td>0.9951</td>\n",
       "      <td>3.26</td>\n",
       "      <td>0.44</td>\n",
       "      <td>10.1</td>\n",
       "      <td>6</td>\n",
       "      <td>0</td>\n",
       "    </tr>\n",
       "    <tr>\n",
       "      <th>3</th>\n",
       "      <td>4</td>\n",
       "      <td>7.2</td>\n",
       "      <td>0.23</td>\n",
       "      <td>0.32</td>\n",
       "      <td>8.5</td>\n",
       "      <td>0.058</td>\n",
       "      <td>47.0</td>\n",
       "      <td>186.0</td>\n",
       "      <td>0.9956</td>\n",
       "      <td>3.19</td>\n",
       "      <td>0.40</td>\n",
       "      <td>9.9</td>\n",
       "      <td>6</td>\n",
       "      <td>0</td>\n",
       "    </tr>\n",
       "    <tr>\n",
       "      <th>4</th>\n",
       "      <td>5</td>\n",
       "      <td>7.2</td>\n",
       "      <td>0.23</td>\n",
       "      <td>0.32</td>\n",
       "      <td>8.5</td>\n",
       "      <td>0.058</td>\n",
       "      <td>47.0</td>\n",
       "      <td>186.0</td>\n",
       "      <td>0.9956</td>\n",
       "      <td>3.19</td>\n",
       "      <td>0.40</td>\n",
       "      <td>9.9</td>\n",
       "      <td>6</td>\n",
       "      <td>0</td>\n",
       "    </tr>\n",
       "  </tbody>\n",
       "</table>\n",
       "</div>"
      ],
      "text/plain": [
       "   Unnamed: 0  fixed.acidity  volatile.acidity  citric.acid  residual.sugar  \\\n",
       "0           1            7.0              0.27         0.36            20.7   \n",
       "1           2            6.3              0.30         0.34             1.6   \n",
       "2           3            8.1              0.28         0.40             6.9   \n",
       "3           4            7.2              0.23         0.32             8.5   \n",
       "4           5            7.2              0.23         0.32             8.5   \n",
       "\n",
       "   chlorides  free.sulfur.dioxide  total.sulfur.dioxide  density    pH  \\\n",
       "0      0.045                 45.0                 170.0   1.0010  3.00   \n",
       "1      0.049                 14.0                 132.0   0.9940  3.30   \n",
       "2      0.050                 30.0                  97.0   0.9951  3.26   \n",
       "3      0.058                 47.0                 186.0   0.9956  3.19   \n",
       "4      0.058                 47.0                 186.0   0.9956  3.19   \n",
       "\n",
       "   sulphates  alcohol  quality  Class  \n",
       "0       0.45      8.8        6      0  \n",
       "1       0.49      9.5        6      0  \n",
       "2       0.44     10.1        6      0  \n",
       "3       0.40      9.9        6      0  \n",
       "4       0.40      9.9        6      0  "
      ]
     },
     "execution_count": 380,
     "metadata": {},
     "output_type": "execute_result"
    }
   ],
   "source": [
    "Master.head()"
   ]
  },
  {
   "cell_type": "code",
   "execution_count": 381,
   "metadata": {},
   "outputs": [],
   "source": [
    "Master = Master.drop(columns = ['Unnamed: 0'])# Drop the first column as it doesnot seem very useful."
   ]
  },
  {
   "cell_type": "markdown",
   "metadata": {},
   "source": [
    "<span style=\"font-family:Times; font-size:1em;\">\n",
    "Now before we even start the analysis we need to seperate the machine learning process we need seperate a test and train set, this is important so that we have an indepednant table to test our model on once we complete building it. </span>"
   ]
  },
  {
   "cell_type": "code",
   "execution_count": 382,
   "metadata": {},
   "outputs": [
    {
     "data": {
      "text/plain": [
       "6497"
      ]
     },
     "execution_count": 382,
     "metadata": {},
     "output_type": "execute_result"
    }
   ],
   "source": [
    "len(Master)"
   ]
  },
  {
   "cell_type": "markdown",
   "metadata": {},
   "source": [
    "<span style=\"font-family:Times; font-size:1em;\">\n",
    "We have a total of 6497 or 6500 instances, so we will use a 75%-25% split as that will give enough instances to train on and test it out. But before we seperate the table into two parts we should also shuffle the order of the instances so we get a well represented training set.\n",
    "</span>"
   ]
  },
  {
   "cell_type": "code",
   "execution_count": 383,
   "metadata": {},
   "outputs": [],
   "source": [
    "Master = Master.sample(frac = 1, random_state =77) #Shuffles the order\n",
    "Master = Master.reset_index(drop = True)#Remove's the shuffled index indicators"
   ]
  },
  {
   "cell_type": "code",
   "execution_count": 384,
   "metadata": {},
   "outputs": [],
   "source": [
    "Train,Test = Master.iloc[0:int(0.75*len(Master)),:],Master.iloc[int(0.75*len(Master)):,:]"
   ]
  },
  {
   "cell_type": "code",
   "execution_count": 385,
   "metadata": {},
   "outputs": [
    {
     "data": {
      "text/plain": [
       "<BarContainer object of 2 artists>"
      ]
     },
     "execution_count": 385,
     "metadata": {},
     "output_type": "execute_result"
    },
    {
     "data": {
      "image/png": "[encoded data removed]",
      "text/plain": [
       "<Figure size 432x288 with 1 Axes>"
      ]
     },
     "metadata": {
      "needs_background": "light"
     },
     "output_type": "display_data"
    }
   ],
   "source": [
    "value_object_train = Train['Class'].value_counts()\n",
    "plt.bar(value_object_train.index,value_object_train.values)"
   ]
  },
  {
   "cell_type": "markdown",
   "metadata": {},
   "source": [
    "<span style=\"font-family:Times; font-size:1em;\">\n",
    "We see that there are more white wine examples then red wine examples, so already we can expect this to be unevan class classification. Another thing I would like to mention is that there are many studies that go through alot of feature engineering and preprocessing which is a good thing, but for our example I would like to use a very lazy appraoch. We are going to design a factorial experiment with many classifiers and generate a long list of results. But before lets check if our data is of quality, if it isn't then this approach will not be as effective."
   ]
  },
  {
   "cell_type": "code",
   "execution_count": 386,
   "metadata": {},
   "outputs": [],
   "source": [
    "missing_object = []\n",
    "\n",
    "for i in Train.columns:\n",
    "    missing_object.append([str(i),Train[i].isnull().sum()])"
   ]
  },
  {
   "cell_type": "code",
   "execution_count": 387,
   "metadata": {},
   "outputs": [
    {
     "data": {
      "text/plain": [
       "[['fixed.acidity', 0],\n",
       " ['volatile.acidity', 0],\n",
       " ['citric.acid', 0],\n",
       " ['residual.sugar', 0],\n",
       " ['chlorides', 0],\n",
       " ['free.sulfur.dioxide', 0],\n",
       " ['total.sulfur.dioxide', 0],\n",
       " ['density', 0],\n",
       " ['pH', 0],\n",
       " ['sulphates', 0],\n",
       " ['alcohol', 0],\n",
       " ['quality', 0],\n",
       " ['Class', 0]]"
      ]
     },
     "execution_count": 387,
     "metadata": {},
     "output_type": "execute_result"
    }
   ],
   "source": [
    "missing_object"
   ]
  },
  {
   "cell_type": "markdown",
   "metadata": {},
   "source": [
    "<span style=\"font-family:Times; font-size:1em;\">\n",
    "So our data is of pretty high quality. This means we can use the experimental design to extract infromation from our classifeir. As a buffer, we will take out 10% of the training set to act as a validation dataset. This is so that we are a 100% sure our experimental design produces the best model. "
   ]
  },
  {
   "cell_type": "code",
   "execution_count": 388,
   "metadata": {},
   "outputs": [],
   "source": [
    "Train = Train.sample(frac = 1, random_state = 78) #Randomize the order again\n",
    "Train = Train.reset_index(drop = True)\n",
    "Xtrain = Train.iloc[0:int(0.9*len(Train)),:]\n",
    "XValid = Train.iloc[int(0.9*len(Train)):,:]                          "
   ]
  },
  {
   "cell_type": "markdown",
   "metadata": {},
   "source": [
    "<span style=\"font-family:Times; font-size:1em;\">\n",
    "    \n",
    "### Our Design\n",
    "\n",
    "- Create a factorial setup with factors that might influence the result of you outcome.\n",
    "- Record the scores and perform ANOVA and get the top 3 algorithms from the experiment.\n",
    "- Test the algorithms on the validaition set and confirm internally that they are the best.\n",
    "- If the assumptions arent met, tweek the experimental design.\n",
    "- Choose the best of the three and use it for test."
   ]
  },
  {
   "cell_type": "markdown",
   "metadata": {},
   "source": [
    "<span style=\"font-family:Times; font-size:1em;\">\n",
    "    \n",
    "It is now important to create a baseline accuracy for the model, we will use Zero R for this. The metrics we will use for this experimetn are F1 score and Accuracy."
   ]
  },
  {
   "cell_type": "code",
   "execution_count": 389,
   "metadata": {},
   "outputs": [],
   "source": [
    "from sklearn.dummy import DummyClassifier\n",
    "from sklearn.metrics import f1_score\n",
    "from sklearn.metrics import accuracy_score"
   ]
  },
  {
   "cell_type": "code",
   "execution_count": 390,
   "metadata": {},
   "outputs": [],
   "source": [
    "Baseline = DummyClassifier().fit(Xtrain.iloc[:,0:-1],Xtrain.iloc[:,-1])\n",
    "Baseline_predict = Baseline.predict(Xtrain.iloc[:,0:-1])"
   ]
  },
  {
   "cell_type": "code",
   "execution_count": 391,
   "metadata": {},
   "outputs": [
    {
     "name": "stdout",
     "output_type": "stream",
     "text": [
      "0.6370894160583942\n",
      "0.2651270207852194\n"
     ]
    }
   ],
   "source": [
    "print(accuracy_score(Xtrain.iloc[:,-1],Baseline_predict)) #Baseline Accuracy\n",
    "print(f1_score(Xtrain.iloc[:,-1],Baseline_predict,)) #Baseline F1"
   ]
  },
  {
   "cell_type": "code",
   "execution_count": 392,
   "metadata": {},
   "outputs": [],
   "source": [
    "from sklearn.linear_model import LogisticRegression as LR\n",
    "from sklearn.tree import DecisionTreeClassifier as DTC\n",
    "from sklearn.svm import SVC\n",
    "from sklearn.neighbors import KNeighborsClassifier as KNN\n",
    "from sklearn.naive_bayes import GaussianNB as NB\n",
    "from sklearn.ensemble import GradientBoostingClassifier as GBC\n",
    "from sklearn.ensemble import RandomForestClassifier as RF"
   ]
  },
  {
   "cell_type": "code",
   "execution_count": 452,
   "metadata": {},
   "outputs": [],
   "source": [
    "from sklearn.preprocessing import MinMaxScaler \n",
    "from sklearn.preprocessing import KBinsDiscretizer\n",
    "from sklearn.preprocessing import QuantileTransformer\n",
    "from sklearn.feature_selection import SelectKBest\n",
    "from sklearn.feature_selection import f_classif\n",
    "from sklearn.feature_selection import chi2\n",
    "from sklearn.model_selection import cross_val_score as CRVS"
   ]
  },
  {
   "cell_type": "code",
   "execution_count": 394,
   "metadata": {},
   "outputs": [],
   "source": [
    "import time"
   ]
  },
  {
   "cell_type": "code",
   "execution_count": 395,
   "metadata": {},
   "outputs": [],
   "source": [
    "X,y = Xtrain.iloc[:,0:-1],Xtrain.iloc[:,-1]#seperating X & Y"
   ]
  },
  {
   "cell_type": "code",
   "execution_count": 396,
   "metadata": {},
   "outputs": [],
   "source": [
    "def experiment(X,y,T):\n",
    "    total_rounds = T\n",
    "    C = 0\n",
    "    output = []\n",
    "    for transform in [(None,None),(MinMaxScaler,\"MinmaxScaler\"),(QuantileTransformer,'QuantileTransformer')]:\n",
    "        if transform[0] != None:\n",
    "            X_val = transform[0]().fit_transform(X,y)\n",
    "        else:\n",
    "            X_val = X\n",
    "        for metric in [(f_classif,'f_classif'),(chi2,'chi2')]:\n",
    "            for kbest in [1,2,3,4,5,6,7,8,9,10,11,12]:\n",
    "                X_new = SelectKBest(metric[0],k = kbest).fit_transform(X_val,y)\n",
    "                for classifier in [LR(solver = 'lbfgs', max_iter=1000),DTC(),SVC(gamma = 'auto'),KNN(),NB(),GBC(),RF(n_estimators=10)]:\n",
    "                    for method in ['accuracy','f1']:\n",
    "                        X_new = np.asarray(X_new)\n",
    "                        scores = CRVS(classifier,X_new,y,scoring = method,cv = 3)\n",
    "                        stats = [str(transform[1]),str(metric[1]),str(kbest),str(type(classifier).__name__),str(method)]\n",
    "                        for sk in scores:\n",
    "                            output.append(stats + [sk])\n",
    "                            if C in total_rounds:\n",
    "                                print (C, end = \"\\t\")\n",
    "                            C += 1\n",
    "    return output\n",
    "                    \n",
    "            "
   ]
  },
  {
   "cell_type": "code",
   "execution_count": 397,
   "metadata": {},
   "outputs": [
    {
     "name": "stdout",
     "output_type": "stream",
     "text": [
      "1\t301\t601\t"
     ]
    },
    {
     "name": "stderr",
     "output_type": "stream",
     "text": [
      "/anaconda3/lib/python3.6/site-packages/sklearn/linear_model/logistic.py:758: ConvergenceWarning: lbfgs failed to converge. Increase the number of iterations.\n",
      "  \"of iterations.\", ConvergenceWarning)\n",
      "/anaconda3/lib/python3.6/site-packages/sklearn/linear_model/logistic.py:758: ConvergenceWarning: lbfgs failed to converge. Increase the number of iterations.\n",
      "  \"of iterations.\", ConvergenceWarning)\n"
     ]
    },
    {
     "name": "stdout",
     "output_type": "stream",
     "text": [
      "901\t"
     ]
    },
    {
     "name": "stderr",
     "output_type": "stream",
     "text": [
      "/anaconda3/lib/python3.6/site-packages/sklearn/preprocessing/data.py:323: DataConversionWarning: Data with input dtype int64, float64 were all converted to float64 by MinMaxScaler.\n",
      "  return self.partial_fit(X, y)\n"
     ]
    },
    {
     "name": "stdout",
     "output_type": "stream",
     "text": [
      "1201\t1501\t1801\t2101\t2401\t2701\t3001\t"
     ]
    }
   ],
   "source": [
    "Total_Rounds =[i for i in range(1,3*2*12*7*2*3+2,300)]\n",
    "start = time.time()\n",
    "records  = experiment(X,y,Total_Rounds)\n",
    "end = time.time()"
   ]
  },
  {
   "cell_type": "code",
   "execution_count": 398,
   "metadata": {},
   "outputs": [
    {
     "data": {
      "text/plain": [
       "149.2545349597931"
      ]
     },
     "execution_count": 398,
     "metadata": {},
     "output_type": "execute_result"
    }
   ],
   "source": [
    "(end - start)"
   ]
  },
  {
   "cell_type": "code",
   "execution_count": 399,
   "metadata": {},
   "outputs": [],
   "source": [
    "Observations = pd.DataFrame(records,columns = ['TRANS','MKBEST','KNUM','CLX','MET','SK'])"
   ]
  },
  {
   "cell_type": "code",
   "execution_count": 400,
   "metadata": {},
   "outputs": [],
   "source": [
    "F1_scores = Observations[Observations['MET'] == 'f1'].drop(columns = ['MET'])\n",
    "Accuracy_scores = Observations[Observations['MET'] == 'accuracy'].drop(columns = ['MET'])"
   ]
  },
  {
   "cell_type": "markdown",
   "metadata": {},
   "source": [
    "<span style=\"font-family:Times; font-size:1em;\">\n",
    "Now that we collected the data from our experiment we can now analyse it using ANOVA. It is much easier to send this to SAS and do the analysis there but for convinencen we will try to do the same anamlysis here using."
   ]
  },
  {
   "cell_type": "code",
   "execution_count": 401,
   "metadata": {},
   "outputs": [],
   "source": [
    "import statsmodels.api as sm\n",
    "from statsmodels.formula.api import ols\n",
    "from scipy import stats"
   ]
  },
  {
   "cell_type": "code",
   "execution_count": 402,
   "metadata": {},
   "outputs": [],
   "source": [
    "Analysis_1 = ols('SK ~ TRANS + MKBEST + KNUM + CLX',data=F1_scores).fit()"
   ]
  },
  {
   "cell_type": "code",
   "execution_count": 403,
   "metadata": {},
   "outputs": [
    {
     "data": {
      "text/html": [
       "<div>\n",
       "<style scoped>\n",
       "    .dataframe tbody tr th:only-of-type {\n",
       "        vertical-align: middle;\n",
       "    }\n",
       "\n",
       "    .dataframe tbody tr th {\n",
       "        vertical-align: top;\n",
       "    }\n",
       "\n",
       "    .dataframe thead th {\n",
       "        text-align: right;\n",
       "    }\n",
       "</style>\n",
       "<table border=\"1\" class=\"dataframe\">\n",
       "  <thead>\n",
       "    <tr style=\"text-align: right;\">\n",
       "      <th></th>\n",
       "      <th>sum_sq</th>\n",
       "      <th>df</th>\n",
       "      <th>F</th>\n",
       "      <th>PR(&gt;F)</th>\n",
       "    </tr>\n",
       "  </thead>\n",
       "  <tbody>\n",
       "    <tr>\n",
       "      <th>TRANS</th>\n",
       "      <td>0.726794</td>\n",
       "      <td>2.0</td>\n",
       "      <td>434.229228</td>\n",
       "      <td>2.488786e-149</td>\n",
       "    </tr>\n",
       "    <tr>\n",
       "      <th>MKBEST</th>\n",
       "      <td>0.032036</td>\n",
       "      <td>1.0</td>\n",
       "      <td>38.280643</td>\n",
       "      <td>7.899359e-10</td>\n",
       "    </tr>\n",
       "    <tr>\n",
       "      <th>KNUM</th>\n",
       "      <td>1.916041</td>\n",
       "      <td>11.0</td>\n",
       "      <td>208.137154</td>\n",
       "      <td>9.995403e-292</td>\n",
       "    </tr>\n",
       "    <tr>\n",
       "      <th>CLX</th>\n",
       "      <td>0.372742</td>\n",
       "      <td>6.0</td>\n",
       "      <td>74.232650</td>\n",
       "      <td>3.519261e-81</td>\n",
       "    </tr>\n",
       "    <tr>\n",
       "      <th>Residual</th>\n",
       "      <td>1.247786</td>\n",
       "      <td>1491.0</td>\n",
       "      <td>NaN</td>\n",
       "      <td>NaN</td>\n",
       "    </tr>\n",
       "  </tbody>\n",
       "</table>\n",
       "</div>"
      ],
      "text/plain": [
       "            sum_sq      df           F         PR(>F)\n",
       "TRANS     0.726794     2.0  434.229228  2.488786e-149\n",
       "MKBEST    0.032036     1.0   38.280643   7.899359e-10\n",
       "KNUM      1.916041    11.0  208.137154  9.995403e-292\n",
       "CLX       0.372742     6.0   74.232650   3.519261e-81\n",
       "Residual  1.247786  1491.0         NaN            NaN"
      ]
     },
     "execution_count": 403,
     "metadata": {},
     "output_type": "execute_result"
    }
   ],
   "source": [
    "sm.stats.anova_lm(Analysis_1, typ=2)"
   ]
  },
  {
   "cell_type": "code",
   "execution_count": 404,
   "metadata": {},
   "outputs": [],
   "source": [
    "def resCheck(check, model): #Quick function to output diagnostic plots\n",
    "    if check == 'rvp':\n",
    "        pred = model.fittedvalues\n",
    "        res = model.resid\n",
    "        a = plt.scatter(pred,res)\n",
    "        plt.xlabel('Predicted')\n",
    "        plt.ylabel('Residual')\n",
    "        return a\n",
    "    elif check == 'qq':\n",
    "        sm.qqplot(model.resid)\n",
    "        "
   ]
  },
  {
   "cell_type": "code",
   "execution_count": 405,
   "metadata": {},
   "outputs": [
    {
     "data": {
      "image/png": "[encoded data removed]",
      "text/plain": [
       "<Figure size 432x288 with 1 Axes>"
      ]
     },
     "metadata": {
      "needs_background": "light"
     },
     "output_type": "display_data"
    }
   ],
   "source": [
    "resCheck('qq',Analysis_1)"
   ]
  },
  {
   "cell_type": "code",
   "execution_count": 406,
   "metadata": {},
   "outputs": [
    {
     "data": {
      "text/plain": [
       "<matplotlib.collections.PathCollection at 0x127472cc0>"
      ]
     },
     "execution_count": 406,
     "metadata": {},
     "output_type": "execute_result"
    },
    {
     "data": {
      "image/png": "[encoded data removed]",
      "text/plain": [
       "<Figure size 432x288 with 1 Axes>"
      ]
     },
     "metadata": {
      "needs_background": "light"
     },
     "output_type": "display_data"
    }
   ],
   "source": [
    "resCheck('rvp',Analysis_1)"
   ]
  },
  {
   "cell_type": "markdown",
   "metadata": {},
   "source": [
    "<span style=\"font-family:Times; font-size:1em;\">\n",
    " Based on the diagnostic plot's we have a good foundation to apply statistical applications to as they fully satisfy our assumptions."
   ]
  },
  {
   "cell_type": "markdown",
   "metadata": {},
   "source": [
    "<span style=\"font-family:Times; font-size:1em;\">\n",
    "We are looking at the analysis of the F1 score. We could have used a full factorial anova to analyse the combinations but I think that would be overkill, keeping things simple and using a basic added model should provide enough analysis to take a foreward step with this research. Looking at the F values we can see that some values potentially provide more explanation on the variance of the scores compared to other values. Looking at the F Values it can already be seen that the largest variation in F1 scores is due to the type of transformation that has been applied to it. Lets have a look at how this works out."
   ]
  },
  {
   "cell_type": "code",
   "execution_count": 407,
   "metadata": {},
   "outputs": [
    {
     "data": {
      "text/plain": [
       "<matplotlib.axes._subplots.AxesSubplot at 0x1274526d8>"
      ]
     },
     "execution_count": 407,
     "metadata": {},
     "output_type": "execute_result"
    },
    {
     "data": {
      "image/png": "[encoded data removed]",
      "text/plain": [
       "<Figure size 432x288 with 1 Axes>"
      ]
     },
     "metadata": {
      "needs_background": "light"
     },
     "output_type": "display_data"
    }
   ],
   "source": [
    "F1_scores.boxplot(column='SK', by='TRANS')"
   ]
  },
  {
   "cell_type": "markdown",
   "metadata": {},
   "source": [
    "<span style=\"font-family:Times; font-size:1em;\">\n",
    "Looking at the three types of transformations we used which are None, MinMax Scaler and Quantile Transformation, we see visually that a Quantile trasnformation has a tight scores space and look's like is providing consistently high scores. But at the same time it seem's to have the most outliers. Based on this we can say that the competition really comes down to MinMax vs Quantile transformations. We could skip this and assume Quantile trasnformation's are better based on the visualization, but just to be sure we will apply statsitical tests on the two types. We could compare them using a T-Test, but lets use some of the other tool's in our design arsenal and test these two treatments with the contrasts."
   ]
  },
  {
   "cell_type": "code",
   "execution_count": 408,
   "metadata": {},
   "outputs": [
    {
     "data": {
      "text/plain": [
       "Ttest_indResult(statistic=-4.925466032901253, pvalue=9.83364633030043e-07)"
      ]
     },
     "execution_count": 408,
     "metadata": {},
     "output_type": "execute_result"
    }
   ],
   "source": [
    "stats.ttest_ind(F1_scores[F1_scores['TRANS'] == 'MinmaxScaler']['SK'],F1_scores[F1_scores['TRANS'] == 'QuantileTransformer']['SK'])"
   ]
  },
  {
   "cell_type": "markdown",
   "metadata": {},
   "source": [
    "<span style=\"font-family:Times; font-size:1em;\">\n",
    "Though the t-test is two sided by default, we can still use it to infer about the populations. The t statistic is negative which means Quantile transformations are leading to higher scores than Min Max scaler trasnformations. So we can be assured that Quantile transformations are more effective. After this we will look at the number of attributes selected and the resuling accuracy scores."
   ]
  },
  {
   "cell_type": "code",
   "execution_count": 418,
   "metadata": {},
   "outputs": [
    {
     "data": {
      "text/plain": [
       "<matplotlib.axes._subplots.AxesSubplot at 0x1275b2cf8>"
      ]
     },
     "execution_count": 418,
     "metadata": {},
     "output_type": "execute_result"
    },
    {
     "data": {
      "image/png": "[encoded data removed]",
      "text/plain": [
       "<Figure size 432x288 with 1 Axes>"
      ]
     },
     "metadata": {
      "needs_background": "light"
     },
     "output_type": "display_data"
    }
   ],
   "source": [
    "Temp_F1_scores = F1_scores\n",
    "Temp_F1_scores.boxplot(column='SK', by='KNUM')"
   ]
  },
  {
   "cell_type": "code",
   "execution_count": 419,
   "metadata": {},
   "outputs": [
    {
     "data": {
      "text/plain": [
       "[<matplotlib.lines.Line2D at 0x126e00dd8>]"
      ]
     },
     "execution_count": 419,
     "metadata": {},
     "output_type": "execute_result"
    },
    {
     "data": {
      "image/png": "[encoded data removed]",
      "text/plain": [
       "<Figure size 432x288 with 1 Axes>"
      ]
     },
     "metadata": {
      "needs_background": "light"
     },
     "output_type": "display_data"
    }
   ],
   "source": [
    "Temp_F1_scores = F1_scores\n",
    "Temp_F1_scores['KNUM'] = F1_scores['KNUM'].astype('float')\n",
    "plt.plot(Temp_F1_scores.groupby(['KNUM'])['SK'].mean())"
   ]
  },
  {
   "cell_type": "markdown",
   "metadata": {},
   "source": [
    "<span style=\"font-family:Times; font-size:1em;\">\n",
    "Based on the plot's shown above it can be seen that there is no harm in including all the attributes in our example. Of course we are calculating the improvement of the F1 score, but generally a decrease in error is looked at rather than the increase in accruacy. But we can use these method's as well.Next we will look at what classifier contributed in the highest scores."
   ]
  },
  {
   "cell_type": "code",
   "execution_count": 429,
   "metadata": {},
   "outputs": [
    {
     "data": {
      "text/plain": [
       "<matplotlib.axes._subplots.AxesSubplot at 0x1275d3f60>"
      ]
     },
     "execution_count": 429,
     "metadata": {},
     "output_type": "execute_result"
    },
    {
     "data": {
      "image/png": "[encoded data removed]",
      "text/plain": [
       "<Figure size 432x288 with 1 Axes>"
      ]
     },
     "metadata": {
      "needs_background": "light"
     },
     "output_type": "display_data"
    }
   ],
   "source": [
    "F1_scores.boxplot(column='SK', by='CLX',vert=False)"
   ]
  },
  {
   "cell_type": "markdown",
   "metadata": {},
   "source": [
    "<span style=\"font-family:Times; font-size:1em;\">\n",
    "We see that the two most consistent classifiers were Random forrest and Gradient Boosting, so we will do a t-test on these two. But we will aslo look at the maximum scores obtained by each learning scheme. As we don't want to eliminate exceptiona;l performances."
   ]
  },
  {
   "cell_type": "code",
   "execution_count": 430,
   "metadata": {},
   "outputs": [
    {
     "data": {
      "text/plain": [
       "CLX\n",
       "DecisionTreeClassifier        0.976422\n",
       "GaussianNB                    0.976157\n",
       "GradientBoostingClassifier    0.987377\n",
       "KNeighborsClassifier          0.991643\n",
       "LogisticRegression            0.988889\n",
       "RandomForestClassifier        0.991643\n",
       "SVC                           0.988889\n",
       "Name: SK, dtype: float64"
      ]
     },
     "execution_count": 430,
     "metadata": {},
     "output_type": "execute_result"
    }
   ],
   "source": [
    "F1_scores.groupby(['CLX'])['SK'].max()"
   ]
  },
  {
   "cell_type": "markdown",
   "metadata": {},
   "source": [
    "<span style=\"font-family:Times; font-size:1em;\">\n",
    "But as a reasearher we have to trust the data, no matter how exceptional SVC and KNN performed they have a large variance of scores. Thus it would be better if we relied on either random forrest or gradient boosting."
   ]
  },
  {
   "cell_type": "code",
   "execution_count": 431,
   "metadata": {},
   "outputs": [
    {
     "data": {
      "text/plain": [
       "Ttest_indResult(statistic=0.3671372051376721, pvalue=0.7136972878113821)"
      ]
     },
     "execution_count": 431,
     "metadata": {},
     "output_type": "execute_result"
    }
   ],
   "source": [
    "stats.ttest_ind(F1_scores[F1_scores['CLX'] == 'GradientBoostingClassifier']['SK'],F1_scores[F1_scores['CLX'] == 'RandomForestClassifier']['SK'])"
   ]
  },
  {
   "cell_type": "markdown",
   "metadata": {},
   "source": [
    "<span style=\"font-family:Times; font-size:1em;\">\n",
    "We see that the results are inconclusive, so we might consider trying them both in the validations section to see which is better. Lastly we look at what selection method was better in determining attribute selection, but in all honesty this can be skipped because we already concluded that there wasn't any problem using all the attributes. But this is a lazy approach, as some of the attributes like quality would be a redundant test for any algorithm. But for convinience we are going to use all attributes. Lastly we will look at two more ANOVAS."
   ]
  },
  {
   "cell_type": "code",
   "execution_count": 433,
   "metadata": {},
   "outputs": [],
   "source": [
    "Analysis_2 = ols('SK ~ TRANS + MKBEST + KNUM + CLX',data=Accuracy_scores).fit()\n",
    "Analysis_3 = ols('SK ~ TRANS * MKBEST * KNUM * CLX',data=Accuracy_scores).fit()"
   ]
  },
  {
   "cell_type": "code",
   "execution_count": 434,
   "metadata": {},
   "outputs": [
    {
     "data": {
      "text/html": [
       "<div>\n",
       "<style scoped>\n",
       "    .dataframe tbody tr th:only-of-type {\n",
       "        vertical-align: middle;\n",
       "    }\n",
       "\n",
       "    .dataframe tbody tr th {\n",
       "        vertical-align: top;\n",
       "    }\n",
       "\n",
       "    .dataframe thead th {\n",
       "        text-align: right;\n",
       "    }\n",
       "</style>\n",
       "<table border=\"1\" class=\"dataframe\">\n",
       "  <thead>\n",
       "    <tr style=\"text-align: right;\">\n",
       "      <th></th>\n",
       "      <th>sum_sq</th>\n",
       "      <th>df</th>\n",
       "      <th>F</th>\n",
       "      <th>PR(&gt;F)</th>\n",
       "    </tr>\n",
       "  </thead>\n",
       "  <tbody>\n",
       "    <tr>\n",
       "      <th>TRANS</th>\n",
       "      <td>0.154769</td>\n",
       "      <td>2.0</td>\n",
       "      <td>427.329842</td>\n",
       "      <td>1.972528e-147</td>\n",
       "    </tr>\n",
       "    <tr>\n",
       "      <th>MKBEST</th>\n",
       "      <td>0.007601</td>\n",
       "      <td>1.0</td>\n",
       "      <td>41.972417</td>\n",
       "      <td>1.254194e-10</td>\n",
       "    </tr>\n",
       "    <tr>\n",
       "      <th>KNUM</th>\n",
       "      <td>0.422846</td>\n",
       "      <td>11.0</td>\n",
       "      <td>212.275250</td>\n",
       "      <td>1.379858e-295</td>\n",
       "    </tr>\n",
       "    <tr>\n",
       "      <th>CLX</th>\n",
       "      <td>0.082760</td>\n",
       "      <td>6.0</td>\n",
       "      <td>76.169208</td>\n",
       "      <td>4.232219e-83</td>\n",
       "    </tr>\n",
       "    <tr>\n",
       "      <th>Residual</th>\n",
       "      <td>0.270003</td>\n",
       "      <td>1491.0</td>\n",
       "      <td>NaN</td>\n",
       "      <td>NaN</td>\n",
       "    </tr>\n",
       "  </tbody>\n",
       "</table>\n",
       "</div>"
      ],
      "text/plain": [
       "            sum_sq      df           F         PR(>F)\n",
       "TRANS     0.154769     2.0  427.329842  1.972528e-147\n",
       "MKBEST    0.007601     1.0   41.972417   1.254194e-10\n",
       "KNUM      0.422846    11.0  212.275250  1.379858e-295\n",
       "CLX       0.082760     6.0   76.169208   4.232219e-83\n",
       "Residual  0.270003  1491.0         NaN            NaN"
      ]
     },
     "execution_count": 434,
     "metadata": {},
     "output_type": "execute_result"
    }
   ],
   "source": [
    "sm.stats.anova_lm(Analysis_2, typ=2)"
   ]
  },
  {
   "cell_type": "markdown",
   "metadata": {},
   "source": [
    "<span style=\"font-family:Times; font-size:1em;\">\n",
    "\n",
    "Based on this we see that we see that looking at accuracy as metric will most likely produce similar results as the previous test. So we can assume tesing only F1 scores should be sufficient to generalise."
   ]
  },
  {
   "cell_type": "code",
   "execution_count": 435,
   "metadata": {},
   "outputs": [
    {
     "data": {
      "text/html": [
       "<div>\n",
       "<style scoped>\n",
       "    .dataframe tbody tr th:only-of-type {\n",
       "        vertical-align: middle;\n",
       "    }\n",
       "\n",
       "    .dataframe tbody tr th {\n",
       "        vertical-align: top;\n",
       "    }\n",
       "\n",
       "    .dataframe thead th {\n",
       "        text-align: right;\n",
       "    }\n",
       "</style>\n",
       "<table border=\"1\" class=\"dataframe\">\n",
       "  <thead>\n",
       "    <tr style=\"text-align: right;\">\n",
       "      <th></th>\n",
       "      <th>sum_sq</th>\n",
       "      <th>df</th>\n",
       "      <th>F</th>\n",
       "      <th>PR(&gt;F)</th>\n",
       "    </tr>\n",
       "  </thead>\n",
       "  <tbody>\n",
       "    <tr>\n",
       "      <th>TRANS</th>\n",
       "      <td>0.154769</td>\n",
       "      <td>2.0</td>\n",
       "      <td>5972.799071</td>\n",
       "      <td>0.000000e+00</td>\n",
       "    </tr>\n",
       "    <tr>\n",
       "      <th>MKBEST</th>\n",
       "      <td>0.007601</td>\n",
       "      <td>1.0</td>\n",
       "      <td>586.649438</td>\n",
       "      <td>1.649471e-102</td>\n",
       "    </tr>\n",
       "    <tr>\n",
       "      <th>KNUM</th>\n",
       "      <td>0.422846</td>\n",
       "      <td>11.0</td>\n",
       "      <td>2966.976078</td>\n",
       "      <td>0.000000e+00</td>\n",
       "    </tr>\n",
       "    <tr>\n",
       "      <th>CLX</th>\n",
       "      <td>0.082760</td>\n",
       "      <td>6.0</td>\n",
       "      <td>1064.618785</td>\n",
       "      <td>0.000000e+00</td>\n",
       "    </tr>\n",
       "    <tr>\n",
       "      <th>TRANS:MKBEST</th>\n",
       "      <td>0.007196</td>\n",
       "      <td>2.0</td>\n",
       "      <td>277.704545</td>\n",
       "      <td>8.540856e-97</td>\n",
       "    </tr>\n",
       "    <tr>\n",
       "      <th>TRANS:KNUM</th>\n",
       "      <td>0.032073</td>\n",
       "      <td>22.0</td>\n",
       "      <td>112.523042</td>\n",
       "      <td>3.974663e-253</td>\n",
       "    </tr>\n",
       "    <tr>\n",
       "      <th>MKBEST:KNUM</th>\n",
       "      <td>0.014588</td>\n",
       "      <td>11.0</td>\n",
       "      <td>102.362030</td>\n",
       "      <td>1.093075e-155</td>\n",
       "    </tr>\n",
       "    <tr>\n",
       "      <th>TRANS:CLX</th>\n",
       "      <td>0.120890</td>\n",
       "      <td>12.0</td>\n",
       "      <td>777.559784</td>\n",
       "      <td>0.000000e+00</td>\n",
       "    </tr>\n",
       "    <tr>\n",
       "      <th>MKBEST:CLX</th>\n",
       "      <td>0.001580</td>\n",
       "      <td>6.0</td>\n",
       "      <td>20.320010</td>\n",
       "      <td>1.565821e-22</td>\n",
       "    </tr>\n",
       "    <tr>\n",
       "      <th>KNUM:CLX</th>\n",
       "      <td>0.020574</td>\n",
       "      <td>66.0</td>\n",
       "      <td>24.059860</td>\n",
       "      <td>4.255054e-163</td>\n",
       "    </tr>\n",
       "    <tr>\n",
       "      <th>TRANS:MKBEST:KNUM</th>\n",
       "      <td>0.014477</td>\n",
       "      <td>22.0</td>\n",
       "      <td>50.789815</td>\n",
       "      <td>2.776807e-146</td>\n",
       "    </tr>\n",
       "    <tr>\n",
       "      <th>TRANS:MKBEST:CLX</th>\n",
       "      <td>0.002677</td>\n",
       "      <td>12.0</td>\n",
       "      <td>17.219225</td>\n",
       "      <td>6.383900e-34</td>\n",
       "    </tr>\n",
       "    <tr>\n",
       "      <th>TRANS:KNUM:CLX</th>\n",
       "      <td>0.034614</td>\n",
       "      <td>132.0</td>\n",
       "      <td>20.239758</td>\n",
       "      <td>1.194907e-206</td>\n",
       "    </tr>\n",
       "    <tr>\n",
       "      <th>MKBEST:KNUM:CLX</th>\n",
       "      <td>0.003065</td>\n",
       "      <td>66.0</td>\n",
       "      <td>3.583960</td>\n",
       "      <td>2.642575e-18</td>\n",
       "    </tr>\n",
       "    <tr>\n",
       "      <th>TRANS:MKBEST:KNUM:CLX</th>\n",
       "      <td>0.005209</td>\n",
       "      <td>132.0</td>\n",
       "      <td>3.045900</td>\n",
       "      <td>6.155380e-23</td>\n",
       "    </tr>\n",
       "    <tr>\n",
       "      <th>Residual</th>\n",
       "      <td>0.013060</td>\n",
       "      <td>1008.0</td>\n",
       "      <td>NaN</td>\n",
       "      <td>NaN</td>\n",
       "    </tr>\n",
       "  </tbody>\n",
       "</table>\n",
       "</div>"
      ],
      "text/plain": [
       "                         sum_sq      df            F         PR(>F)\n",
       "TRANS                  0.154769     2.0  5972.799071   0.000000e+00\n",
       "MKBEST                 0.007601     1.0   586.649438  1.649471e-102\n",
       "KNUM                   0.422846    11.0  2966.976078   0.000000e+00\n",
       "CLX                    0.082760     6.0  1064.618785   0.000000e+00\n",
       "TRANS:MKBEST           0.007196     2.0   277.704545   8.540856e-97\n",
       "TRANS:KNUM             0.032073    22.0   112.523042  3.974663e-253\n",
       "MKBEST:KNUM            0.014588    11.0   102.362030  1.093075e-155\n",
       "TRANS:CLX              0.120890    12.0   777.559784   0.000000e+00\n",
       "MKBEST:CLX             0.001580     6.0    20.320010   1.565821e-22\n",
       "KNUM:CLX               0.020574    66.0    24.059860  4.255054e-163\n",
       "TRANS:MKBEST:KNUM      0.014477    22.0    50.789815  2.776807e-146\n",
       "TRANS:MKBEST:CLX       0.002677    12.0    17.219225   6.383900e-34\n",
       "TRANS:KNUM:CLX         0.034614   132.0    20.239758  1.194907e-206\n",
       "MKBEST:KNUM:CLX        0.003065    66.0     3.583960   2.642575e-18\n",
       "TRANS:MKBEST:KNUM:CLX  0.005209   132.0     3.045900   6.155380e-23\n",
       "Residual               0.013060  1008.0          NaN            NaN"
      ]
     },
     "execution_count": 435,
     "metadata": {},
     "output_type": "execute_result"
    }
   ],
   "source": [
    "sm.stats.anova_lm(Analysis_3, typ=2)"
   ]
  },
  {
   "cell_type": "markdown",
   "metadata": {},
   "source": [
    "<span style=\"font-family:Times; font-size:1em;\">\n",
    "Lastly we look at the interaction for all the factors in our experiment. As the interaction terms are significant it only means that certain combinations work better than others. Based on the test's we did on each individual factore above and selecting the best ones should be sufficient to derive a good model with. "
   ]
  },
  {
   "cell_type": "markdown",
   "metadata": {},
   "source": [
    "<span style=\"font-family:Times; font-size:1em;\">\n",
    "    \n",
    "### ML Architecture\n",
    "\n",
    "- Quantile trasnform the X matrix\n",
    "- Use all attributes\n",
    "- Use either Random Forrest or Gradient Boosted Trees"
   ]
  },
  {
   "cell_type": "code",
   "execution_count": 460,
   "metadata": {},
   "outputs": [
    {
     "name": "stderr",
     "output_type": "stream",
     "text": [
      "/anaconda3/lib/python3.6/site-packages/sklearn/preprocessing/data.py:323: DataConversionWarning: Data with input dtype int64, float64 were all converted to float64 by MinMaxScaler.\n",
      "  return self.partial_fit(X, y)\n"
     ]
    }
   ],
   "source": [
    "#Data Pred\n",
    "transformer = MinMaxScaler().fit(X,y)\n",
    "X_2 = transformer.transform(X)\n",
    "VX_2 = transformer.transform(XValid.iloc[:,:-1])\n",
    "Validation_y = XValid.iloc[:,-1]"
   ]
  },
  {
   "cell_type": "code",
   "execution_count": 461,
   "metadata": {},
   "outputs": [],
   "source": [
    "RandomForrest = RF(n_estimators = 10).fit(X_2,y)\n",
    "BoostedT = GBC().fit(X_2,y)"
   ]
  },
  {
   "cell_type": "code",
   "execution_count": 462,
   "metadata": {},
   "outputs": [],
   "source": [
    "from sklearn.metrics import accuracy_score\n",
    "from sklearn.metrics import f1_score"
   ]
  },
  {
   "cell_type": "code",
   "execution_count": 465,
   "metadata": {},
   "outputs": [
    {
     "name": "stdout",
     "output_type": "stream",
     "text": [
      "AccuracyRF 0.9836065573770492\n",
      "BoostedRF 0.968\n",
      "AccuracyGB 0.9959016393442623\n",
      "BoostedGB 0.9921259842519685\n"
     ]
    }
   ],
   "source": [
    "predict1 = RandomForrest.predict(VX_2)\n",
    "predict2 = BoostedT.predict(VX_2)\n",
    "print (\"AccuracyRF\", accuracy_score(Validation_y,predict1))\n",
    "print (\"BoostedRF\",f1_score(Validation_y,predict1))\n",
    "\n",
    "print (\"AccuracyGB\", accuracy_score(Validation_y,predict2))\n",
    "print (\"BoostedGB\",f1_score(Validation_y,predict2))"
   ]
  },
  {
   "cell_type": "markdown",
   "metadata": {},
   "source": [
    "\n",
    "We can conclude that Gradient Boosting is the algorithm of choice here. Now we can test it on the final data set. Again at this point you could fine tune the model and reiterate the entrie process untill you have a very fine tuned model. But the main risk is over fitting, so with such scores its better to let the model be as it is."
   ]
  },
  {
   "cell_type": "code",
   "execution_count": 464,
   "metadata": {},
   "outputs": [],
   "source": [
    "Final_set = transformer.transform(Test.iloc[:,:-1])\n",
    "Final_Y = Test.iloc[:,-1]"
   ]
  },
  {
   "cell_type": "code",
   "execution_count": 466,
   "metadata": {},
   "outputs": [],
   "source": [
    "predict3 = BoostedT.predict(Final_set)"
   ]
  },
  {
   "cell_type": "code",
   "execution_count": 470,
   "metadata": {},
   "outputs": [
    {
     "name": "stdout",
     "output_type": "stream",
     "text": [
      "Final Accuracy 0.9926153846153846\n",
      "Final F1 0.9846547314578005\n"
     ]
    }
   ],
   "source": [
    "print (\"Final Accuracy\", accuracy_score(Final_Y,predict3))\n",
    "print (\"Final F1\",f1_score(Final_Y,predict3))"
   ]
  }
 ],
 "metadata": {
  "kernelspec": {
   "display_name": "Python 3",
   "language": "python",
   "name": "python3"
  },
  "language_info": {
   "codemirror_mode": {
    "name": "ipython",
    "version": 3
   },
   "file_extension": ".py",
   "mimetype": "text/x-python",
   "name": "python",
   "nbconvert_exporter": "python",
   "pygments_lexer": "ipython3",
   "version": "3.6.8"
  }
 },
 "nbformat": 4,
 "nbformat_minor": 2
}
